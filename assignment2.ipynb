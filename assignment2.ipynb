{
 "cells": [
  {
   "cell_type": "code",
   "execution_count": 6,
   "metadata": {},
   "outputs": [],
   "source": [
    "import duckdb\n",
    "import os\n",
    "import tqdm\n",
    "import pandas as pd"
   ]
  },
  {
   "cell_type": "markdown",
   "metadata": {},
   "source": [
    "# Store MIMIC III data as Parquet files"
   ]
  },
  {
   "cell_type": "code",
   "execution_count": 7,
   "metadata": {},
   "outputs": [],
   "source": [
    "#per chatgpt, used for progress bar estimations below\n",
    "mimic_table_row_counts = { \n",
    "    'ADMISSIONS': 58976,\n",
    "    'CALLOUT': 34499,\n",
    "    'CAREGIVERS': 7567,\n",
    "    'CHARTEVENTS': 330712483,\n",
    "    'CPTEVENTS': 573146,\n",
    "    'D_CPT': 134,\n",
    "    'D_ICD_DIAGNOSES': 14710,\n",
    "    'D_ICD_PROCEDURES': 3898,\n",
    "    'D_ITEMS': 12487,\n",
    "    'D_LABITEMS': 753,\n",
    "    'DATETIMEEVENTS': 4485937,\n",
    "    'DIAGNOSES_ICD': 651047,\n",
    "    'DRGCODES': 125557,\n",
    "    'ICUSTAYS': 61532,\n",
    "    'INPUTEVENTS_CV': 17527935,\n",
    "    'INPUTEVENTS_MV': 3618991,\n",
    "    'LABEVENTS': 27854055,\n",
    "    'MICROBIOLOGYEVENTS': 631726,\n",
    "    'NOTEEVENTS': 2083180,\n",
    "    'OUTPUTEVENTS': 4349218,\n",
    "    'PATIENTS': 46520,\n",
    "    'PRESCRIPTIONS': 4157756,\n",
    "    'PROCEDUREEVENTS_MV': 258066,\n",
    "    'PROCEDURES_ICD': 240095,\n",
    "    'SERVICES': 733241,\n",
    "    'TRANSFERS': 261897\n",
    "}\n"
   ]
  },
  {
   "cell_type": "code",
   "execution_count": 8,
   "metadata": {},
   "outputs": [],
   "source": [
    "# build column list for preprocessing into parquet file\n",
    "datetime_columns_translation = [\n",
    "    'ADMITTIME',  # ADMISSIONS\n",
    "    'DISCHTIME',  # ADMISSIONS\n",
    "    'DEATHTIME',  # ADMISSIONS\n",
    "    'EDREGTIME',  # ADMISSIONS\n",
    "    'EDOUTTIME',  # ADMISSIONS\n",
    "    'CHARTTIME',  # CHARTEVENTS, DATETIMEEVENTS, LABEVENTS, OUTPUTEVENTS, NOTEEVENTS, MICROBIOLOGYEVENTS\n",
    "    'STORETIME',  # CHARTEVENTS, DATETIMEEVENTS, OUTPUTEVENTS\n",
    "    'STARTTIME',  # INPUTEVENTS_MV, PROCEDUREEVENTS_MV\n",
    "    'ENDTIME',  # INPUTEVENTS_MV, PROCEDUREEVENTS_MV\n",
    "    'INTIME',  # ICUSTAYS\n",
    "    'OUTTIME',  # ICUSTAYS\n",
    "    'DOB',  # PATIENTS \n",
    "    'DOD',  # PATIENTS \n",
    "    'DOD_HOSP',  # PATIENTS \n",
    "    'DOD_SSN',  # PATIENTS \n",
    "    'CHARTDATE',  # NOTEEVENTS, MICROBIOLOGYEVENTS\n",
    "    'STARTDATE',  # PRESCRIPTIONS\n",
    "    'ENDDATE',  # PRESCRIPTIONS\n",
    "]\n",
    "\n",
    "numeric_columns_translation = [\n",
    "    'VALUENUM',  # Common in multiple tables\n",
    "    'VALUE',  # CHARTEVENTS, LABEVENTS, DATETIMEEVENTS, etc.\n",
    "    'AMOUNT',  # INPUTEVENTS_CV, INPUTEVENTS_MV\n",
    "    'RATE',  # INPUTEVENTS_CV, INPUTEVENTS_MV\n",
    "    'ORIGINALAMOUNT',  # INPUTEVENTS_CV, INPUTEVENTS_MV\n",
    "    'ORIGINALRATE',  # INPUTEVENTS_CV, INPUTEVENTS_MV\n",
    "    'DILUTION_TEXT',  # MICROBIOLOGYEVENTS\n",
    "    'DILUTION_COMMENTS',  # MICROBIOLOGYEVENTS\n",
    "    'DOSE_VAL_RX',  # PRESCRIPTIONS\n",
    "    'FORM_VAL_DISP',  # PRESCRIPTIONS\n",
    "    'CPT_CD' \n",
    "]\n"
   ]
  },
  {
   "cell_type": "code",
   "execution_count": 10,
   "metadata": {},
   "outputs": [
    {
     "name": "stdout",
     "output_type": "stream",
     "text": [
      "Processing PRESCRIPTIONS.csv.gz / 1 of 32\n"
     ]
    },
    {
     "name": "stderr",
     "output_type": "stream",
     "text": [
      "Processing Chunks:   0%|          | 0/1.0 [00:00<?, ?it/s]c:\\Users\\ricej\\anaconda3\\envs\\aihc\\Lib\\site-packages\\tqdm\\std.py:1181: DtypeWarning: Columns (11) have mixed types. Specify dtype option on import or set low_memory=False.\n",
      "  for obj in iterable:\n",
      "Processing Chunks: 100%|██████████| 1/1.0 [00:13<00:00, 13.09s/it]\n"
     ]
    },
    {
     "name": "stdout",
     "output_type": "stream",
     "text": [
      "Processing PROCEDUREEVENTS_MV.csv.gz / 2 of 32\n"
     ]
    },
    {
     "name": "stderr",
     "output_type": "stream",
     "text": [
      "Processing Chunks: 100%|██████████| 1/1.0 [00:01<00:00,  1.08s/it]\n"
     ]
    },
    {
     "name": "stdout",
     "output_type": "stream",
     "text": [
      "Processing PROCEDURES_ICD.csv.gz / 3 of 32\n"
     ]
    },
    {
     "name": "stderr",
     "output_type": "stream",
     "text": [
      "Processing Chunks: 100%|██████████| 1/1.0 [00:00<00:00,  8.93it/s]\n"
     ]
    },
    {
     "name": "stdout",
     "output_type": "stream",
     "text": [
      "Processing README.md / 4 of 32\n",
      "\t Skipping since not proper type\n",
      "Processing SERVICES.csv.gz / 5 of 32\n"
     ]
    },
    {
     "name": "stderr",
     "output_type": "stream",
     "text": [
      "Processing Chunks: 100%|██████████| 1/1.0 [00:00<00:00, 10.98it/s]\n"
     ]
    },
    {
     "name": "stdout",
     "output_type": "stream",
     "text": [
      "Processing SHA256SUMS.txt / 6 of 32\n",
      "\t Skipping since not proper type\n",
      "Processing TRANSFERS.csv.gz / 7 of 32\n"
     ]
    },
    {
     "name": "stderr",
     "output_type": "stream",
     "text": [
      "Processing Chunks: 100%|██████████| 1/1.0 [00:00<00:00,  1.73it/s]\n"
     ]
    }
   ],
   "source": [
    "# process the extracted files and turn them into parquet files for dask or duckDB\n",
    "location = \"./mimicIII/mimic-iii-clinical-database-1.4\"\n",
    "files_to_process = os.listdir(\"./mimicIII/mimic-iii-clinical-database-1.4\")\n",
    "#files_to_process = [\"/\".join([location,file]) for file in files_to_process]\n",
    "\n",
    "for i, src_file in enumerate(files_to_process[25:]):\n",
    "    print(f\"Processing {src_file} / {1+i} of {len(files_to_process)}\")\n",
    "    if not src_file.endswith(\".csv.gz\"):\n",
    "        print(f\"\\t Skipping since not proper type\")\n",
    "        continue\n",
    "    if src_file.startswith(\"CHARTEVENTS\"):\n",
    "        print(f\"\\t Already loaded CHARTEVENTS\")\n",
    "        continue\n",
    "    \n",
    "    base_fn = src_file.replace(\".csv.gz\", \"\")\n",
    "\n",
    "    #print(f\"{base_fn} = {mimic_table_row_counts.get(base_fn)}\")\n",
    "\n",
    "    chunksize = 10e6\n",
    "    reader = pd.read_csv(\"/\".join([location,src_file]), chunksize=chunksize, compression='gzip')  \n",
    "\n",
    "    \n",
    "    for i, chunk in enumerate(tqdm.tqdm(reader, total=1+mimic_table_row_counts.get(base_fn)//chunksize, desc=\"Processing Chunks\")):\n",
    "        # convert numerical values\n",
    "        num_columns = list(set(numeric_columns_translation).intersection(chunk.columns))\n",
    "        dt_columns = list(set(datetime_columns_translation).intersection(chunk.columns))\n",
    "        for c, col in enumerate(num_columns): \n",
    "            #print(f\"\\t\\tChanging numeric in {c+1} of {len(num_columns)}\")               \n",
    "            chunk[col] = pd.to_numeric(chunk[col], errors=\"coerce\")\n",
    "        \n",
    "        for c, col in enumerate(dt_columns): \n",
    "            #print(f\"\\t\\tChanging dt in {c+1} of {len(dt_columns)}\")               \n",
    "            chunk[col] = pd.to_datetime(chunk[col], errors=\"coerce\")\n",
    "        \n",
    "        if \"GSN\" in chunk.columns:\n",
    "            chunk[\"GSN\"] = chunk[\"GSN\"].fillna(\"\").astype(str)\n",
    "\n",
    "        # Save each chunk as a separate Parquet file\n",
    "        chunk.to_parquet(f\"parquet/{base_fn}_{i}.parquet\", engine=\"pyarrow\", index=False)"
   ]
  },
  {
   "cell_type": "markdown",
   "metadata": {},
   "source": [
    "# Set up DuckDB helpers"
   ]
  },
  {
   "cell_type": "code",
   "execution_count": 125,
   "metadata": {},
   "outputs": [],
   "source": [
    "# column look ups for convenience when wanting to see what columns are available in what tables\n",
    "mimic_columns = dict()\n",
    "for tbl in mimic_table_row_counts.keys():\n",
    "    df = pd.read_parquet(f\"{tbl}_0.parquet\")\n",
    "    mimic_columns[tbl] = df.columns\n",
    "\n",
    "del df\n",
    "# reformat index objects to lists \n",
    "mimic_columns = {col: list(mimic_columns[col]) for col in mimic_columns}\n",
    "# Setup DuckDB helper functions"
   ]
  },
  {
   "cell_type": "code",
   "execution_count": 15,
   "metadata": {},
   "outputs": [],
   "source": [
    "# change working directory to where parquet files are\n",
    "os.chdir(\"./parquet\")"
   ]
  },
  {
   "cell_type": "code",
   "execution_count": 144,
   "metadata": {},
   "outputs": [],
   "source": [
    "def table_check():\n",
    "    def decorator(fnc):\n",
    "        def wrapper(*args, **kwargs):\n",
    "            for arg in args:\n",
    "                if arg not in mimic_columns.keys():\n",
    "                    raise ValueError(f\"'{arg}' is not in the list of MIMIC III tables\")\n",
    "            return fnc(*args, **kwargs)\n",
    "        return wrapper\n",
    "    return decorator"
   ]
  },
  {
   "cell_type": "code",
   "execution_count": 112,
   "metadata": {},
   "outputs": [],
   "source": [
    "# decorator to change anything I am passing a query to be updated with the parquet files\n",
    "def duckify():\n",
    "    def decorator(fnc):\n",
    "        def wrapper(*args, **kwargs):\n",
    "            #print(*args)\n",
    "            new_args = []\n",
    "            for arg in args:\n",
    "                if type(arg)==str:\n",
    "                # print(arg)\n",
    "                    found=False\n",
    "                    for tbl in mimic_columns.keys():\n",
    "                        if arg.find(tbl)>-1:\n",
    "                            #print(f\"before {arg=}\")\n",
    "                            arg = arg.replace(tbl, f\"'{tbl}*.parquet'\")\n",
    "                            #print(f\"after {arg=}\")\n",
    "                            found=True\n",
    "                    if not found:\n",
    "                        raise ValueError(\"Found no table name in the query string\")\n",
    "                new_args.append(arg)\n",
    "                #print(args)\n",
    "            return fnc(*new_args, **kwargs)\n",
    "        return wrapper\n",
    "    return decorator\n"
   ]
  },
  {
   "cell_type": "code",
   "execution_count": 113,
   "metadata": {},
   "outputs": [],
   "source": [
    "@duckify()\n",
    "def run_query(qry, print_qry=False):\n",
    "    \"\"\"\n",
    "    Run query and return dataframe, or simply print resulting query\n",
    "    \"\"\"\n",
    "    if print_qry:\n",
    "        print(qry)\n",
    "        return None\n",
    "    else:\n",
    "        return duckdb.query(qry).to_df()"
   ]
  },
  {
   "cell_type": "markdown",
   "metadata": {},
   "source": [
    "# Assignment"
   ]
  },
  {
   "cell_type": "markdown",
   "metadata": {},
   "source": [
    "## 1.  Who are the most recorded patients in the database? \n",
    "Find the patients that have the most records across all databases but also the highest average rank"
   ]
  },
  {
   "cell_type": "code",
   "execution_count": 168,
   "metadata": {},
   "outputs": [],
   "source": [
    "@table_check()\n",
    "def recon_query(tbl):\n",
    "    qry = f\"\"\" \n",
    "    select \n",
    "    '{tbl.capitalize()}' as Table,\n",
    "    subject_id,\n",
    "    count(*) Count_,\n",
    "    row_number() over (partition by null order by Count_ desc) Record_Rank\n",
    "    from {tbl}\n",
    "    group by 2\n",
    "    \"\"\"\n",
    "    return qry"
   ]
  },
  {
   "cell_type": "code",
   "execution_count": 169,
   "metadata": {},
   "outputs": [
    {
     "data": {
      "text/html": [
       "<div>\n",
       "<style scoped>\n",
       "    .dataframe tbody tr th:only-of-type {\n",
       "        vertical-align: middle;\n",
       "    }\n",
       "\n",
       "    .dataframe tbody tr th {\n",
       "        vertical-align: top;\n",
       "    }\n",
       "\n",
       "    .dataframe thead th {\n",
       "        text-align: right;\n",
       "    }\n",
       "</style>\n",
       "<table border=\"1\" class=\"dataframe\">\n",
       "  <thead>\n",
       "    <tr style=\"text-align: right;\">\n",
       "      <th></th>\n",
       "      <th>Table</th>\n",
       "      <th>SUBJECT_ID</th>\n",
       "      <th>Count_</th>\n",
       "      <th>Record_Rank</th>\n",
       "    </tr>\n",
       "  </thead>\n",
       "  <tbody>\n",
       "    <tr>\n",
       "      <th>0</th>\n",
       "      <td>Admissions</td>\n",
       "      <td>13033</td>\n",
       "      <td>42</td>\n",
       "      <td>1</td>\n",
       "    </tr>\n",
       "    <tr>\n",
       "      <th>1</th>\n",
       "      <td>Admissions</td>\n",
       "      <td>109</td>\n",
       "      <td>34</td>\n",
       "      <td>2</td>\n",
       "    </tr>\n",
       "    <tr>\n",
       "      <th>2</th>\n",
       "      <td>Admissions</td>\n",
       "      <td>11861</td>\n",
       "      <td>34</td>\n",
       "      <td>3</td>\n",
       "    </tr>\n",
       "    <tr>\n",
       "      <th>3</th>\n",
       "      <td>Admissions</td>\n",
       "      <td>5060</td>\n",
       "      <td>31</td>\n",
       "      <td>4</td>\n",
       "    </tr>\n",
       "    <tr>\n",
       "      <th>4</th>\n",
       "      <td>Admissions</td>\n",
       "      <td>20643</td>\n",
       "      <td>24</td>\n",
       "      <td>5</td>\n",
       "    </tr>\n",
       "    <tr>\n",
       "      <th>5</th>\n",
       "      <td>Admissions</td>\n",
       "      <td>19213</td>\n",
       "      <td>23</td>\n",
       "      <td>6</td>\n",
       "    </tr>\n",
       "    <tr>\n",
       "      <th>6</th>\n",
       "      <td>Admissions</td>\n",
       "      <td>7809</td>\n",
       "      <td>22</td>\n",
       "      <td>7</td>\n",
       "    </tr>\n",
       "    <tr>\n",
       "      <th>7</th>\n",
       "      <td>Admissions</td>\n",
       "      <td>5727</td>\n",
       "      <td>21</td>\n",
       "      <td>8</td>\n",
       "    </tr>\n",
       "    <tr>\n",
       "      <th>8</th>\n",
       "      <td>Admissions</td>\n",
       "      <td>23657</td>\n",
       "      <td>20</td>\n",
       "      <td>9</td>\n",
       "    </tr>\n",
       "    <tr>\n",
       "      <th>9</th>\n",
       "      <td>Admissions</td>\n",
       "      <td>11318</td>\n",
       "      <td>19</td>\n",
       "      <td>10</td>\n",
       "    </tr>\n",
       "    <tr>\n",
       "      <th>10</th>\n",
       "      <td>Admissions</td>\n",
       "      <td>19059</td>\n",
       "      <td>17</td>\n",
       "      <td>11</td>\n",
       "    </tr>\n",
       "    <tr>\n",
       "      <th>11</th>\n",
       "      <td>Admissions</td>\n",
       "      <td>23707</td>\n",
       "      <td>17</td>\n",
       "      <td>12</td>\n",
       "    </tr>\n",
       "    <tr>\n",
       "      <th>12</th>\n",
       "      <td>Admissions</td>\n",
       "      <td>73713</td>\n",
       "      <td>17</td>\n",
       "      <td>13</td>\n",
       "    </tr>\n",
       "    <tr>\n",
       "      <th>13</th>\n",
       "      <td>Admissions</td>\n",
       "      <td>4787</td>\n",
       "      <td>16</td>\n",
       "      <td>14</td>\n",
       "    </tr>\n",
       "    <tr>\n",
       "      <th>14</th>\n",
       "      <td>Admissions</td>\n",
       "      <td>7275</td>\n",
       "      <td>16</td>\n",
       "      <td>15</td>\n",
       "    </tr>\n",
       "    <tr>\n",
       "      <th>15</th>\n",
       "      <td>Admissions</td>\n",
       "      <td>41976</td>\n",
       "      <td>15</td>\n",
       "      <td>16</td>\n",
       "    </tr>\n",
       "    <tr>\n",
       "      <th>16</th>\n",
       "      <td>Admissions</td>\n",
       "      <td>10635</td>\n",
       "      <td>14</td>\n",
       "      <td>17</td>\n",
       "    </tr>\n",
       "    <tr>\n",
       "      <th>17</th>\n",
       "      <td>Admissions</td>\n",
       "      <td>19620</td>\n",
       "      <td>14</td>\n",
       "      <td>18</td>\n",
       "    </tr>\n",
       "    <tr>\n",
       "      <th>18</th>\n",
       "      <td>Admissions</td>\n",
       "      <td>3100</td>\n",
       "      <td>14</td>\n",
       "      <td>19</td>\n",
       "    </tr>\n",
       "    <tr>\n",
       "      <th>19</th>\n",
       "      <td>Admissions</td>\n",
       "      <td>25225</td>\n",
       "      <td>14</td>\n",
       "      <td>20</td>\n",
       "    </tr>\n",
       "  </tbody>\n",
       "</table>\n",
       "</div>"
      ],
      "text/plain": [
       "         Table  SUBJECT_ID  Count_  Record_Rank\n",
       "0   Admissions       13033      42            1\n",
       "1   Admissions         109      34            2\n",
       "2   Admissions       11861      34            3\n",
       "3   Admissions        5060      31            4\n",
       "4   Admissions       20643      24            5\n",
       "5   Admissions       19213      23            6\n",
       "6   Admissions        7809      22            7\n",
       "7   Admissions        5727      21            8\n",
       "8   Admissions       23657      20            9\n",
       "9   Admissions       11318      19           10\n",
       "10  Admissions       19059      17           11\n",
       "11  Admissions       23707      17           12\n",
       "12  Admissions       73713      17           13\n",
       "13  Admissions        4787      16           14\n",
       "14  Admissions        7275      16           15\n",
       "15  Admissions       41976      15           16\n",
       "16  Admissions       10635      14           17\n",
       "17  Admissions       19620      14           18\n",
       "18  Admissions        3100      14           19\n",
       "19  Admissions       25225      14           20"
      ]
     },
     "execution_count": 169,
     "metadata": {},
     "output_type": "execute_result"
    }
   ],
   "source": [
    "run_query(recon_query(\"ADMISSIONS\")).head(20)"
   ]
  },
  {
   "cell_type": "code",
   "execution_count": 170,
   "metadata": {},
   "outputs": [],
   "source": [
    "# build the recon query for every table in MIMIC iii and get the statistics\n",
    "qry = \"union all\".join([recon_query(table) for table, columns in mimic_columns.items() if 'SUBJECT_ID' in columns])\n",
    "recon_df = run_query(f\"select subject_id, avg(record_rank), min(record_rank), max(record_rank), sum(Count_) from ({qry}) src group by 1 order by 2\")\n"
   ]
  },
  {
   "cell_type": "code",
   "execution_count": null,
   "metadata": {},
   "outputs": [],
   "source": []
  },
  {
   "cell_type": "code",
   "execution_count": 171,
   "metadata": {},
   "outputs": [
    {
     "data": {
      "text/html": [
       "<div>\n",
       "<style scoped>\n",
       "    .dataframe tbody tr th:only-of-type {\n",
       "        vertical-align: middle;\n",
       "    }\n",
       "\n",
       "    .dataframe tbody tr th {\n",
       "        vertical-align: top;\n",
       "    }\n",
       "\n",
       "    .dataframe thead th {\n",
       "        text-align: right;\n",
       "    }\n",
       "</style>\n",
       "<table border=\"1\" class=\"dataframe\">\n",
       "  <thead>\n",
       "    <tr style=\"text-align: right;\">\n",
       "      <th></th>\n",
       "      <th>SUBJECT_ID</th>\n",
       "      <th>avg(record_rank)</th>\n",
       "      <th>min(record_rank)</th>\n",
       "      <th>max(record_rank)</th>\n",
       "      <th>sum(Count_)</th>\n",
       "    </tr>\n",
       "  </thead>\n",
       "  <tbody>\n",
       "    <tr>\n",
       "      <th>0</th>\n",
       "      <td>73713</td>\n",
       "      <td>343.894737</td>\n",
       "      <td>6</td>\n",
       "      <td>4774</td>\n",
       "      <td>86271.0</td>\n",
       "    </tr>\n",
       "    <tr>\n",
       "      <th>1</th>\n",
       "      <td>357</td>\n",
       "      <td>463.500000</td>\n",
       "      <td>24</td>\n",
       "      <td>3255</td>\n",
       "      <td>169927.0</td>\n",
       "    </tr>\n",
       "    <tr>\n",
       "      <th>2</th>\n",
       "      <td>55337</td>\n",
       "      <td>470.578947</td>\n",
       "      <td>12</td>\n",
       "      <td>2108</td>\n",
       "      <td>131359.0</td>\n",
       "    </tr>\n",
       "    <tr>\n",
       "      <th>3</th>\n",
       "      <td>11861</td>\n",
       "      <td>568.200000</td>\n",
       "      <td>2</td>\n",
       "      <td>2591</td>\n",
       "      <td>79938.0</td>\n",
       "    </tr>\n",
       "    <tr>\n",
       "      <th>4</th>\n",
       "      <td>20643</td>\n",
       "      <td>586.650000</td>\n",
       "      <td>5</td>\n",
       "      <td>3210</td>\n",
       "      <td>73335.0</td>\n",
       "    </tr>\n",
       "  </tbody>\n",
       "</table>\n",
       "</div>"
      ],
      "text/plain": [
       "   SUBJECT_ID  avg(record_rank)  min(record_rank)  max(record_rank)  \\\n",
       "0       73713        343.894737                 6              4774   \n",
       "1         357        463.500000                24              3255   \n",
       "2       55337        470.578947                12              2108   \n",
       "3       11861        568.200000                 2              2591   \n",
       "4       20643        586.650000                 5              3210   \n",
       "\n",
       "   sum(Count_)  \n",
       "0      86271.0  \n",
       "1     169927.0  \n",
       "2     131359.0  \n",
       "3      79938.0  \n",
       "4      73335.0  "
      ]
     },
     "execution_count": 171,
     "metadata": {},
     "output_type": "execute_result"
    }
   ],
   "source": []
  },
  {
   "cell_type": "code",
   "execution_count": 134,
   "metadata": {},
   "outputs": [
    {
     "data": {
      "text/html": [
       "<div>\n",
       "<style scoped>\n",
       "    .dataframe tbody tr th:only-of-type {\n",
       "        vertical-align: middle;\n",
       "    }\n",
       "\n",
       "    .dataframe tbody tr th {\n",
       "        vertical-align: top;\n",
       "    }\n",
       "\n",
       "    .dataframe thead th {\n",
       "        text-align: right;\n",
       "    }\n",
       "</style>\n",
       "<table border=\"1\" class=\"dataframe\">\n",
       "  <thead>\n",
       "    <tr style=\"text-align: right;\">\n",
       "      <th></th>\n",
       "      <th>SUBJECT_ID</th>\n",
       "      <th>avg(record_rank)</th>\n",
       "      <th>min(record_rank)</th>\n",
       "      <th>max(record_rank)</th>\n",
       "      <th>sum(Count_)</th>\n",
       "    </tr>\n",
       "  </thead>\n",
       "  <tbody>\n",
       "    <tr>\n",
       "      <th>46515</th>\n",
       "      <td>26654</td>\n",
       "      <td>40915.583333</td>\n",
       "      <td>30756</td>\n",
       "      <td>46207</td>\n",
       "      <td>65.0</td>\n",
       "    </tr>\n",
       "    <tr>\n",
       "      <th>46516</th>\n",
       "      <td>16448</td>\n",
       "      <td>40939.000000</td>\n",
       "      <td>33804</td>\n",
       "      <td>46303</td>\n",
       "      <td>35.0</td>\n",
       "    </tr>\n",
       "    <tr>\n",
       "      <th>46517</th>\n",
       "      <td>26235</td>\n",
       "      <td>40987.727273</td>\n",
       "      <td>33299</td>\n",
       "      <td>46447</td>\n",
       "      <td>30.0</td>\n",
       "    </tr>\n",
       "    <tr>\n",
       "      <th>46518</th>\n",
       "      <td>19645</td>\n",
       "      <td>41046.888889</td>\n",
       "      <td>33496</td>\n",
       "      <td>46233</td>\n",
       "      <td>155.0</td>\n",
       "    </tr>\n",
       "    <tr>\n",
       "      <th>46519</th>\n",
       "      <td>1490</td>\n",
       "      <td>41656.833333</td>\n",
       "      <td>33367</td>\n",
       "      <td>46517</td>\n",
       "      <td>100.0</td>\n",
       "    </tr>\n",
       "  </tbody>\n",
       "</table>\n",
       "</div>"
      ],
      "text/plain": [
       "       SUBJECT_ID  avg(record_rank)  min(record_rank)  max(record_rank)  \\\n",
       "46515       26654      40915.583333             30756             46207   \n",
       "46516       16448      40939.000000             33804             46303   \n",
       "46517       26235      40987.727273             33299             46447   \n",
       "46518       19645      41046.888889             33496             46233   \n",
       "46519        1490      41656.833333             33367             46517   \n",
       "\n",
       "       sum(Count_)  \n",
       "46515         65.0  \n",
       "46516         35.0  \n",
       "46517         30.0  \n",
       "46518        155.0  \n",
       "46519        100.0  "
      ]
     },
     "execution_count": 134,
     "metadata": {},
     "output_type": "execute_result"
    }
   ],
   "source": []
  },
  {
   "cell_type": "markdown",
   "metadata": {},
   "source": [
    "## 2.  What are diseases that they have in common\n",
    "\n",
    "Write intersection query for diseases "
   ]
  },
  {
   "cell_type": "markdown",
   "metadata": {},
   "source": [
    "## 3. What medicines do they have in common?\n",
    "\n",
    "Write intersection query for medicines"
   ]
  },
  {
   "cell_type": "markdown",
   "metadata": {},
   "source": [
    "## 4.  What types of ICU visits have they had?\n",
    "\n",
    "Have subject ID for columns and number of ICU stays by ICU type as columns"
   ]
  },
  {
   "cell_type": "markdown",
   "metadata": {},
   "source": [
    "## 5.  In their stays in ICU, what kind of chart events have they had?"
   ]
  },
  {
   "cell_type": "markdown",
   "metadata": {},
   "source": [
    "## 6.  Let's compare their vitals"
   ]
  },
  {
   "cell_type": "markdown",
   "metadata": {},
   "source": [
    "## 7. How many other people use the same diseases? "
   ]
  },
  {
   "cell_type": "markdown",
   "metadata": {},
   "source": [
    "## 7. How many other people use the same meds? "
   ]
  },
  {
   "cell_type": "markdown",
   "metadata": {},
   "source": [
    "## 8. How many ICU visits do patients have who had the same use of meds and with same diseases?"
   ]
  },
  {
   "cell_type": "markdown",
   "metadata": {},
   "source": [
    "## 9.  What are the rarest diagnoses and what meds are associated?"
   ]
  },
  {
   "cell_type": "markdown",
   "metadata": {},
   "source": [
    "## 10.  What are the rarest meds and what diseases are they associated with? "
   ]
  }
 ],
 "metadata": {
  "kernelspec": {
   "display_name": "aihc",
   "language": "python",
   "name": "python3"
  },
  "language_info": {
   "codemirror_mode": {
    "name": "ipython",
    "version": 3
   },
   "file_extension": ".py",
   "mimetype": "text/x-python",
   "name": "python",
   "nbconvert_exporter": "python",
   "pygments_lexer": "ipython3",
   "version": "3.12.7"
  }
 },
 "nbformat": 4,
 "nbformat_minor": 2
}
