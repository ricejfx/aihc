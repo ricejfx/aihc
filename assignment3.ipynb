{
 "cells": [
  {
   "cell_type": "code",
   "execution_count": null,
   "metadata": {},
   "outputs": [],
   "source": [
    "import pandas as pd\n",
    "import numpy as np\n",
    "import duckify as db\n",
    "import re"
   ]
  },
  {
   "cell_type": "code",
   "execution_count": 146,
   "metadata": {},
   "outputs": [],
   "source": [
    "import scispacy\n",
    "import spacy\n",
    "from spacy import displacy"
   ]
  },
  {
   "cell_type": "markdown",
   "metadata": {},
   "source": [
    "# Get the Note Events Only for One Diagnosis\n",
    "\n",
    "Given someone close to me as something called \"agenesis of the corpus callosum\" and has developmental delays, I wanted to research this potential diagnosis and what else might be available in this dataset"
   ]
  },
  {
   "cell_type": "code",
   "execution_count": 115,
   "metadata": {},
   "outputs": [
    {
     "data": {
      "text/html": [
       "<div>\n",
       "<style scoped>\n",
       "    .dataframe tbody tr th:only-of-type {\n",
       "        vertical-align: middle;\n",
       "    }\n",
       "\n",
       "    .dataframe tbody tr th {\n",
       "        vertical-align: top;\n",
       "    }\n",
       "\n",
       "    .dataframe thead th {\n",
       "        text-align: right;\n",
       "    }\n",
       "</style>\n",
       "<table border=\"1\" class=\"dataframe\">\n",
       "  <thead>\n",
       "    <tr style=\"text-align: right;\">\n",
       "      <th></th>\n",
       "      <th>ROW_ID</th>\n",
       "      <th>ICD9_CODE</th>\n",
       "      <th>SHORT_TITLE</th>\n",
       "      <th>LONG_TITLE</th>\n",
       "    </tr>\n",
       "  </thead>\n",
       "  <tbody>\n",
       "    <tr>\n",
       "      <th>0</th>\n",
       "      <td>3058</td>\n",
       "      <td>3159</td>\n",
       "      <td>Development delay NOS</td>\n",
       "      <td>Unspecified delay in development</td>\n",
       "    </tr>\n",
       "    <tr>\n",
       "      <th>1</th>\n",
       "      <td>11811</td>\n",
       "      <td>7422</td>\n",
       "      <td>Reduction deform, brain</td>\n",
       "      <td>Congenital reduction deformities of brain</td>\n",
       "    </tr>\n",
       "    <tr>\n",
       "      <th>2</th>\n",
       "      <td>11813</td>\n",
       "      <td>7424</td>\n",
       "      <td>Brain anomaly NEC</td>\n",
       "      <td>Other specified congenital anomalies of brain</td>\n",
       "    </tr>\n",
       "    <tr>\n",
       "      <th>3</th>\n",
       "      <td>11818</td>\n",
       "      <td>7429</td>\n",
       "      <td>Nervous system anom NOS</td>\n",
       "      <td>Unspecified congenital anomaly of brain, spina...</td>\n",
       "    </tr>\n",
       "  </tbody>\n",
       "</table>\n",
       "</div>"
      ],
      "text/plain": [
       "   ROW_ID ICD9_CODE              SHORT_TITLE  \\\n",
       "0    3058      3159    Development delay NOS   \n",
       "1   11811      7422  Reduction deform, brain   \n",
       "2   11813      7424        Brain anomaly NEC   \n",
       "3   11818      7429  Nervous system anom NOS   \n",
       "\n",
       "                                          LONG_TITLE  \n",
       "0                   Unspecified delay in development  \n",
       "1          Congenital reduction deformities of brain  \n",
       "2      Other specified congenital anomalies of brain  \n",
       "3  Unspecified congenital anomaly of brain, spina...  "
      ]
     },
     "execution_count": 115,
     "metadata": {},
     "output_type": "execute_result"
    }
   ],
   "source": [
    "db.run_query(\n",
    "\"\"\"\n",
    "select * \n",
    "from D_ICD_DIAGNOSES \n",
    "where upper(LONG_TITLE) like '%CONG%BRAIN%'\n",
    "or ICD9_CODE = '3159'\n",
    "limit 10\n",
    "\"\"\")"
   ]
  },
  {
   "cell_type": "code",
   "execution_count": 117,
   "metadata": {},
   "outputs": [
    {
     "data": {
      "text/html": [
       "<div>\n",
       "<style scoped>\n",
       "    .dataframe tbody tr th:only-of-type {\n",
       "        vertical-align: middle;\n",
       "    }\n",
       "\n",
       "    .dataframe tbody tr th {\n",
       "        vertical-align: top;\n",
       "    }\n",
       "\n",
       "    .dataframe thead th {\n",
       "        text-align: right;\n",
       "    }\n",
       "</style>\n",
       "<table border=\"1\" class=\"dataframe\">\n",
       "  <thead>\n",
       "    <tr style=\"text-align: right;\">\n",
       "      <th></th>\n",
       "      <th>HADM_ID</th>\n",
       "    </tr>\n",
       "  </thead>\n",
       "  <tbody>\n",
       "  </tbody>\n",
       "</table>\n",
       "</div>"
      ],
      "text/plain": [
       "Empty DataFrame\n",
       "Columns: [HADM_ID]\n",
       "Index: []"
      ]
     },
     "execution_count": 117,
     "metadata": {},
     "output_type": "execute_result"
    }
   ],
   "source": [
    "db.run_query(\n",
    "\"\"\"\n",
    "select \n",
    "HADM_ID\n",
    "from DIAGNOSES_ICD\n",
    "where ICD9_CODE = '7424'\n",
    "intersect\n",
    "select\n",
    "HADM_ID\n",
    "from DIAGNOSES_ICD\n",
    "where ICD9_CODE = '3159'\n",
    "\"\"\"\n",
    ")"
   ]
  },
  {
   "cell_type": "markdown",
   "metadata": {},
   "source": [
    "Since I don't have visits with both, I will focus on the code associated with the brain abnormality"
   ]
  },
  {
   "cell_type": "code",
   "execution_count": 112,
   "metadata": {},
   "outputs": [],
   "source": [
    "notes_df = db.run_query(\n",
    "\"\"\"\n",
    "select\n",
    "*\n",
    "from NOTEEVENTS\n",
    "where hadm_id in (\n",
    "    select hadm_id\n",
    "    from DIAGNOSES_ICD\n",
    "    where ICD9_CODE = '7424'\n",
    ")\n",
    "\"\"\"\n",
    ")"
   ]
  },
  {
   "cell_type": "code",
   "execution_count": 114,
   "metadata": {},
   "outputs": [
    {
     "name": "stdout",
     "output_type": "stream",
     "text": [
      "<class 'pandas.core.frame.DataFrame'>\n",
      "RangeIndex: 6959 entries, 0 to 6958\n",
      "Data columns (total 11 columns):\n",
      " #   Column       Non-Null Count  Dtype         \n",
      "---  ------       --------------  -----         \n",
      " 0   ROW_ID       6959 non-null   int64         \n",
      " 1   SUBJECT_ID   6959 non-null   int64         \n",
      " 2   HADM_ID      6959 non-null   float64       \n",
      " 3   CHARTDATE    6959 non-null   datetime64[ns]\n",
      " 4   CHARTTIME    6833 non-null   datetime64[ns]\n",
      " 5   STORETIME    6392 non-null   datetime64[ns]\n",
      " 6   CATEGORY     6959 non-null   object        \n",
      " 7   DESCRIPTION  6959 non-null   object        \n",
      " 8   CGID         6392 non-null   float64       \n",
      " 9   ISERROR      0 non-null      float64       \n",
      " 10  TEXT         6959 non-null   object        \n",
      "dtypes: datetime64[ns](3), float64(3), int64(2), object(3)\n",
      "memory usage: 598.2+ KB\n"
     ]
    }
   ],
   "source": [
    "notes_df.info()"
   ]
  },
  {
   "cell_type": "code",
   "execution_count": null,
   "metadata": {},
   "outputs": [],
   "source": [
    "import re"
   ]
  },
  {
   "cell_type": "code",
   "execution_count": null,
   "metadata": {},
   "outputs": [],
   "source": [
    "# get notes into list\n",
    "notes_list = notes_df[\"TEXT\"].apply(lambda txt: re.sub(r'[^\\x20-\\x7E]',' ',txt)).to_list()"
   ]
  },
  {
   "cell_type": "markdown",
   "metadata": {},
   "source": [
    "# Spacy Extracted Entities"
   ]
  },
  {
   "cell_type": "code",
   "execution_count": 147,
   "metadata": {},
   "outputs": [],
   "source": [
    "nlp = spacy.load(\"en_core_web_sm\")"
   ]
  },
  {
   "cell_type": "code",
   "execution_count": 148,
   "metadata": {},
   "outputs": [
    {
     "name": "stdout",
     "output_type": "stream",
     "text": [
      "Attending attend VERB VBG compound\n",
      "Note Note PROPN NNP dobj\n",
      "Day Day PROPN NNP dobj\n",
      "of of ADP IN prep\n",
      "life life NOUN NN pobj\n",
      "15 15 NUM CD nummod\n",
      "PMA PMA PROPN NNP nsubj\n",
      "31 31 NUM CD compound\n",
      "1/7 1/7 NUM CD nummod\n",
      "CPAP cpap NOUN NN nmod\n",
      "5 5 NUM CD nummod\n",
      "FiO2 FiO2 PROPN NNP appos\n",
      "21 21 NUM CD nummod\n",
      "% % NOUN NN appos\n",
      "after after ADP IN prep\n",
      "being be VERB VBG pcomp\n",
      "off off ADP RP prt\n",
      "for for ADP IN prep\n",
      "[ [ PUNCT -LRB- pobj\n",
      "* * PUNCT NFP punct\n",
      "* * PUNCT NFP punct\n",
      "4 4 NUM CD pobj\n",
      "- - SYM SYM punct\n",
      "14 14 NUM CD prep\n",
      "* * PUNCT NFP punct\n",
      "* * PUNCT NFP punct\n",
      "] ] PUNCT -RRB- punct\n",
      "day day NOUN NN pobj\n",
      "RR rr NOUN NN appos\n",
      "30 30 NUM CD nummod\n",
      "- - SYM SYM punct\n",
      "40 40 NUM CD prep\n",
      "'s be AUX VBZ ROOT\n",
      "on on ADP IN prep\n",
      "caffeine caffeine NOUN NN pobj\n",
      "one one NUM CD nummod\n",
      "spell spell NOUN NN npadvmod\n",
      "in in ADP IN prep\n",
      "24 24 NUM CD nummod\n",
      "hours hour NOUN NNS pobj\n",
      "HR hr NOUN NN appos\n",
      "130 130 NUM CD nummod\n",
      "- - SYM SYM punct\n",
      "160 160 NUM CD prep\n",
      "'s 's PART POS case\n",
      "BP BP PROPN NNP nmod\n",
      "72/38 72/38 NUM CD nummod\n",
      "mean mean NOUN NN parataxis\n",
      "50 50 NUM CD nummod\n",
      "weight weight NOUN NN appos\n",
      "1360 1360 NUM CD nummod\n",
      "down down ADV RB advmod\n",
      "10 10 NUM CD npadvmod\n",
      "on on ADP IN prep\n",
      "150 150 NUM CD nummod\n",
      "cc cc NOUN NN nmod\n",
      "/ / SYM SYM punct\n",
      "kg kg PROPN NNP nmod\n",
      "/ / SYM SYM punct\n",
      "day day NOUN NN pobj\n",
      "pg pg ADV RB npadvmod\n",
      "over over ADP IN prep\n",
      "an an DET DT det\n",
      "hour hour NOUN NN nmod\n",
      "15 15 NUM CD nummod\n",
      "min min NOUN NN pobj\n",
      "two two NUM CD nummod\n",
      "spits spit NOUN NNS appos\n",
      "last last ADJ JJ amod\n",
      "night night NOUN NN appos\n",
      "PICC PICC PROPN NNP appos\n",
      "at at ADP IN prep\n",
      "KVO KVO PROPN NNP compound\n",
      "D D PROPN NNP nsubj\n",
      "stick stick VERB VBP conj\n",
      "76 76 NUM CD dobj\n",
      "last last ADJ JJ amod\n",
      "night night NOUN NN npadvmod\n",
      "10 10 NUM CD nummod\n",
      "cc cc NOUN NN compound\n",
      "aspirate aspirate NOUN NN appos\n",
      "which which DET WDT nsubjpass\n",
      "was be AUX VBD auxpass\n",
      "refed refe VERB VBN relcl\n",
      "girth girth ADV RB advmod\n",
      "stable stable ADJ JJ amod\n",
      "UO UO PROPN NNP nmod\n",
      "2.5 2.5 NUM CD nummod\n",
      "cc cc NOUN NN agent\n",
      "/ / SYM SYM punct\n",
      "kg kg INTJ UH nmod\n",
      "/ / PUNCT , punct\n",
      "hr hr X FW intj\n",
      "stooling stool VERB VBG advcl\n",
      "heme heme NOUN NN dobj\n",
      "negative negative ADJ JJ acomp\n",
      "on on ADP IN prep\n",
      "vanco vanco NOUN NN nmod\n",
      "/ / SYM SYM punct\n",
      "gent gent NOUN NN nmod\n",
      "weaining weaining ADJ JJ amod\n",
      "air air NOUN NN compound\n",
      "mode mode NOUN NN compound\n",
      "isolette isolette NOUN NN compound\n",
      "family family NOUN NN nsubj\n",
      "meeting meet VERB VBG pobj\n",
      "4 4 NUM CD nummod\n",
      "pm pm NOUN NN prep\n",
      "    SPACE _SP punct\n",
      "Imp imp NOUN NN npadvmod\n",
      "- - PUNCT HYPH punct\n",
      "stable stable ADJ JJ amod\n",
      "making making NOUN NN amod\n",
      "progress progress NOUN NN nsubj\n",
      "will will AUX MD aux\n",
      "continue continue VERB VB ROOT\n",
      "CPAP CPAP PROPN NNP dobj\n",
      "will will AUX MD aux\n",
      "advance advance VERB VB ccomp\n",
      "to to ADP IN prep\n",
      "22 22 NUM CD nummod\n",
      "cal cal NOUN NN nmod\n",
      "/ / SYM SYM punct\n",
      "oz oz INTJ UH pobj\n",
      "will will AUX MD aux\n",
      "d d NOUN NN nmod\n",
      "/ / SYM SYM punct\n",
      "c c NOUN NN det\n",
      "amp amp NOUN NN nmod\n",
      "/ / PUNCT HYPH punct\n",
      "gent gent NOUN NN nsubj\n",
      "will will AUX MD aux\n",
      "base base VERB VB conj\n",
      "calculation calculation NOUN NN dobj\n",
      "on on ADP IN prep\n",
      "birth birth NOUN NN compound\n",
      "weight weight NOUN NN pobj\n",
      "till till SCONJ IN mark\n",
      "he he PRON PRP nsubj\n",
      "surpasses surpass VERB VBZ advcl\n",
      "the the DET DT det\n",
      "birth birth NOUN NN compound\n",
      "weight weight NOUN NN dobj\n"
     ]
    }
   ],
   "source": [
    "for token in nlp(notes_list[0]):\n",
    "    print(token.text, token.lemma_, token.pos_, token.tag_, token.dep_)"
   ]
  },
  {
   "cell_type": "markdown",
   "metadata": {},
   "source": [
    "# SciSpacy Extracted Entities"
   ]
  },
  {
   "cell_type": "markdown",
   "metadata": {},
   "source": [
    "## en_core_sci_md"
   ]
  },
  {
   "cell_type": "code",
   "execution_count": null,
   "metadata": {},
   "outputs": [],
   "source": [
    "import en_core_sci_md"
   ]
  },
  {
   "cell_type": "code",
   "execution_count": null,
   "metadata": {},
   "outputs": [],
   "source": [
    "nlp = en_core_sci_md.load()"
   ]
  },
  {
   "cell_type": "code",
   "execution_count": null,
   "metadata": {},
   "outputs": [
    {
     "name": "stdout",
     "output_type": "stream",
     "text": [
      "NICU Fellow Physical Exam Please ENTITY\n",
      "attending ENTITY\n",
      "hospital course ENTITY\n",
      "plan ENTITY\n",
      "Prone ENTITY\n",
      "CPAP ENTITY\n",
      "p130 ENTITY\n",
      "CPAP ENTITY\n",
      "Anterior fontanelle soft open ENTITY\n",
      "flat ENTITY\n",
      "Equal ENTITY\n",
      "clear breath sounds ENTITY\n",
      "bilaterally ENTITY\n",
      "Mild subcostal retractions ENTITY\n",
      "Regular rhythm ENTITY\n",
      "normal rate ENTITY\n",
      "no murmur ENTITY\n",
      "Abdomen soft ENTITY\n",
      "nondistended ENTITY\n",
      "Warm ENTITY\n",
      "pink ENTITY\n"
     ]
    }
   ],
   "source": [
    "for entity in nlp(notes_list[1]).ents:\n",
    "    print(entity.text, entity.label_)"
   ]
  },
  {
   "cell_type": "code",
   "execution_count": null,
   "metadata": {},
   "outputs": [
    {
     "data": {
      "text/html": [
       "<span class=\"tex2jax_ignore\"><div class=\"entities\" style=\"line-height: 2.5; direction: ltr\">\n",
       "<mark class=\"entity\" style=\"background: #ddd; padding: 0.45em 0.6em; margin: 0 0.25em; line-height: 1; border-radius: 0.35em;\">\n",
       "    NICU Fellow Physical Exam Please\n",
       "    <span style=\"font-size: 0.8em; font-weight: bold; line-height: 1; border-radius: 0.35em; vertical-align: middle; margin-left: 0.5rem\">ENTITY</span>\n",
       "</mark>\n",
       " see \n",
       "<mark class=\"entity\" style=\"background: #ddd; padding: 0.45em 0.6em; margin: 0 0.25em; line-height: 1; border-radius: 0.35em;\">\n",
       "    attending\n",
       "    <span style=\"font-size: 0.8em; font-weight: bold; line-height: 1; border-radius: 0.35em; vertical-align: middle; margin-left: 0.5rem\">ENTITY</span>\n",
       "</mark>\n",
       " note for \n",
       "<mark class=\"entity\" style=\"background: #ddd; padding: 0.45em 0.6em; margin: 0 0.25em; line-height: 1; border-radius: 0.35em;\">\n",
       "    hospital course\n",
       "    <span style=\"font-size: 0.8em; font-weight: bold; line-height: 1; border-radius: 0.35em; vertical-align: middle; margin-left: 0.5rem\">ENTITY</span>\n",
       "</mark>\n",
       " and \n",
       "<mark class=\"entity\" style=\"background: #ddd; padding: 0.45em 0.6em; margin: 0 0.25em; line-height: 1; border-radius: 0.35em;\">\n",
       "    plan\n",
       "    <span style=\"font-size: 0.8em; font-weight: bold; line-height: 1; border-radius: 0.35em; vertical-align: middle; margin-left: 0.5rem\">ENTITY</span>\n",
       "</mark>\n",
       ".  \n",
       "<mark class=\"entity\" style=\"background: #ddd; padding: 0.45em 0.6em; margin: 0 0.25em; line-height: 1; border-radius: 0.35em;\">\n",
       "    Prone\n",
       "    <span style=\"font-size: 0.8em; font-weight: bold; line-height: 1; border-radius: 0.35em; vertical-align: middle; margin-left: 0.5rem\">ENTITY</span>\n",
       "</mark>\n",
       ", on \n",
       "<mark class=\"entity\" style=\"background: #ddd; padding: 0.45em 0.6em; margin: 0 0.25em; line-height: 1; border-radius: 0.35em;\">\n",
       "    CPAP\n",
       "    <span style=\"font-size: 0.8em; font-weight: bold; line-height: 1; border-radius: 0.35em; vertical-align: middle; margin-left: 0.5rem\">ENTITY</span>\n",
       "</mark>\n",
       " 1360g down 10g \n",
       "<mark class=\"entity\" style=\"background: #ddd; padding: 0.45em 0.6em; margin: 0 0.25em; line-height: 1; border-radius: 0.35em;\">\n",
       "    p130\n",
       "    <span style=\"font-size: 0.8em; font-weight: bold; line-height: 1; border-radius: 0.35em; vertical-align: middle; margin-left: 0.5rem\">ENTITY</span>\n",
       "</mark>\n",
       "-160 72/38 mean 50 \n",
       "<mark class=\"entity\" style=\"background: #ddd; padding: 0.45em 0.6em; margin: 0 0.25em; line-height: 1; border-radius: 0.35em;\">\n",
       "    CPAP\n",
       "    <span style=\"font-size: 0.8em; font-weight: bold; line-height: 1; border-radius: 0.35em; vertical-align: middle; margin-left: 0.5rem\">ENTITY</span>\n",
       "</mark>\n",
       " 5cm 21% r30-40  \n",
       "<mark class=\"entity\" style=\"background: #ddd; padding: 0.45em 0.6em; margin: 0 0.25em; line-height: 1; border-radius: 0.35em;\">\n",
       "    Anterior fontanelle soft open\n",
       "    <span style=\"font-size: 0.8em; font-weight: bold; line-height: 1; border-radius: 0.35em; vertical-align: middle; margin-left: 0.5rem\">ENTITY</span>\n",
       "</mark>\n",
       " and \n",
       "<mark class=\"entity\" style=\"background: #ddd; padding: 0.45em 0.6em; margin: 0 0.25em; line-height: 1; border-radius: 0.35em;\">\n",
       "    flat\n",
       "    <span style=\"font-size: 0.8em; font-weight: bold; line-height: 1; border-radius: 0.35em; vertical-align: middle; margin-left: 0.5rem\">ENTITY</span>\n",
       "</mark>\n",
       ".  \n",
       "<mark class=\"entity\" style=\"background: #ddd; padding: 0.45em 0.6em; margin: 0 0.25em; line-height: 1; border-radius: 0.35em;\">\n",
       "    Equal\n",
       "    <span style=\"font-size: 0.8em; font-weight: bold; line-height: 1; border-radius: 0.35em; vertical-align: middle; margin-left: 0.5rem\">ENTITY</span>\n",
       "</mark>\n",
       " air entry with \n",
       "<mark class=\"entity\" style=\"background: #ddd; padding: 0.45em 0.6em; margin: 0 0.25em; line-height: 1; border-radius: 0.35em;\">\n",
       "    clear breath sounds\n",
       "    <span style=\"font-size: 0.8em; font-weight: bold; line-height: 1; border-radius: 0.35em; vertical-align: middle; margin-left: 0.5rem\">ENTITY</span>\n",
       "</mark>\n",
       " \n",
       "<mark class=\"entity\" style=\"background: #ddd; padding: 0.45em 0.6em; margin: 0 0.25em; line-height: 1; border-radius: 0.35em;\">\n",
       "    bilaterally\n",
       "    <span style=\"font-size: 0.8em; font-weight: bold; line-height: 1; border-radius: 0.35em; vertical-align: middle; margin-left: 0.5rem\">ENTITY</span>\n",
       "</mark>\n",
       ".  \n",
       "<mark class=\"entity\" style=\"background: #ddd; padding: 0.45em 0.6em; margin: 0 0.25em; line-height: 1; border-radius: 0.35em;\">\n",
       "    Mild subcostal retractions\n",
       "    <span style=\"font-size: 0.8em; font-weight: bold; line-height: 1; border-radius: 0.35em; vertical-align: middle; margin-left: 0.5rem\">ENTITY</span>\n",
       "</mark>\n",
       ".  \n",
       "<mark class=\"entity\" style=\"background: #ddd; padding: 0.45em 0.6em; margin: 0 0.25em; line-height: 1; border-radius: 0.35em;\">\n",
       "    Regular rhythm\n",
       "    <span style=\"font-size: 0.8em; font-weight: bold; line-height: 1; border-radius: 0.35em; vertical-align: middle; margin-left: 0.5rem\">ENTITY</span>\n",
       "</mark>\n",
       " with \n",
       "<mark class=\"entity\" style=\"background: #ddd; padding: 0.45em 0.6em; margin: 0 0.25em; line-height: 1; border-radius: 0.35em;\">\n",
       "    normal rate\n",
       "    <span style=\"font-size: 0.8em; font-weight: bold; line-height: 1; border-radius: 0.35em; vertical-align: middle; margin-left: 0.5rem\">ENTITY</span>\n",
       "</mark>\n",
       ", \n",
       "<mark class=\"entity\" style=\"background: #ddd; padding: 0.45em 0.6em; margin: 0 0.25em; line-height: 1; border-radius: 0.35em;\">\n",
       "    no murmur\n",
       "    <span style=\"font-size: 0.8em; font-weight: bold; line-height: 1; border-radius: 0.35em; vertical-align: middle; margin-left: 0.5rem\">ENTITY</span>\n",
       "</mark>\n",
       ".  \n",
       "<mark class=\"entity\" style=\"background: #ddd; padding: 0.45em 0.6em; margin: 0 0.25em; line-height: 1; border-radius: 0.35em;\">\n",
       "    Abdomen soft\n",
       "    <span style=\"font-size: 0.8em; font-weight: bold; line-height: 1; border-radius: 0.35em; vertical-align: middle; margin-left: 0.5rem\">ENTITY</span>\n",
       "</mark>\n",
       ", \n",
       "<mark class=\"entity\" style=\"background: #ddd; padding: 0.45em 0.6em; margin: 0 0.25em; line-height: 1; border-radius: 0.35em;\">\n",
       "    nondistended\n",
       "    <span style=\"font-size: 0.8em; font-weight: bold; line-height: 1; border-radius: 0.35em; vertical-align: middle; margin-left: 0.5rem\">ENTITY</span>\n",
       "</mark>\n",
       ".  \n",
       "<mark class=\"entity\" style=\"background: #ddd; padding: 0.45em 0.6em; margin: 0 0.25em; line-height: 1; border-radius: 0.35em;\">\n",
       "    Warm\n",
       "    <span style=\"font-size: 0.8em; font-weight: bold; line-height: 1; border-radius: 0.35em; vertical-align: middle; margin-left: 0.5rem\">ENTITY</span>\n",
       "</mark>\n",
       ", \n",
       "<mark class=\"entity\" style=\"background: #ddd; padding: 0.45em 0.6em; margin: 0 0.25em; line-height: 1; border-radius: 0.35em;\">\n",
       "    pink\n",
       "    <span style=\"font-size: 0.8em; font-weight: bold; line-height: 1; border-radius: 0.35em; vertical-align: middle; margin-left: 0.5rem\">ENTITY</span>\n",
       "</mark>\n",
       " </div></span>"
      ],
      "text/plain": [
       "<IPython.core.display.HTML object>"
      ]
     },
     "metadata": {},
     "output_type": "display_data"
    }
   ],
   "source": [
    "displacy.render(nlp(notes_list[1]), style=\"ent\", jupyter=True)"
   ]
  },
  {
   "cell_type": "markdown",
   "metadata": {},
   "source": [
    "## en_core_sci_lg"
   ]
  },
  {
   "cell_type": "code",
   "execution_count": null,
   "metadata": {},
   "outputs": [],
   "source": []
  },
  {
   "cell_type": "markdown",
   "metadata": {},
   "source": [
    "## en_ner_craft_md"
   ]
  },
  {
   "cell_type": "code",
   "execution_count": null,
   "metadata": {},
   "outputs": [],
   "source": [
    "import en_ner_craft_md"
   ]
  },
  {
   "cell_type": "code",
   "execution_count": null,
   "metadata": {},
   "outputs": [],
   "source": []
  },
  {
   "cell_type": "markdown",
   "metadata": {},
   "source": [
    "## en_ner_jnlpba_md"
   ]
  },
  {
   "cell_type": "code",
   "execution_count": null,
   "metadata": {},
   "outputs": [],
   "source": [
    "import en_ner_jnlpba_md"
   ]
  },
  {
   "cell_type": "markdown",
   "metadata": {},
   "source": [
    "## en_ner_bionlp13cf_md"
   ]
  },
  {
   "cell_type": "code",
   "execution_count": null,
   "metadata": {},
   "outputs": [],
   "source": [
    "import en_ner_bionlp13cg_md"
   ]
  },
  {
   "cell_type": "markdown",
   "metadata": {},
   "source": [
    "## en_ner_bc5cdr_md"
   ]
  },
  {
   "cell_type": "code",
   "execution_count": null,
   "metadata": {},
   "outputs": [],
   "source": [
    "import en_ner_bc5cdr_md"
   ]
  },
  {
   "cell_type": "code",
   "execution_count": null,
   "metadata": {},
   "outputs": [],
   "source": []
  },
  {
   "cell_type": "code",
   "execution_count": null,
   "metadata": {},
   "outputs": [],
   "source": []
  },
  {
   "cell_type": "code",
   "execution_count": null,
   "metadata": {},
   "outputs": [],
   "source": []
  },
  {
   "cell_type": "markdown",
   "metadata": {},
   "source": [
    "# Word2Vec Plots"
   ]
  },
  {
   "cell_type": "markdown",
   "metadata": {},
   "source": [
    "# tSNE Plots"
   ]
  }
 ],
 "metadata": {
  "language_info": {
   "name": "python"
  }
 },
 "nbformat": 4,
 "nbformat_minor": 2
}
